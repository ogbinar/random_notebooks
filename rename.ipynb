{
 "cells": [
  {
   "cell_type": "markdown",
   "metadata": {},
   "source": [
    "# rename"
   ]
  },
  {
   "cell_type": "code",
   "execution_count": 32,
   "metadata": {},
   "outputs": [],
   "source": [
    "import os\n",
    "folder = \"C:\\\\Users\\\\Myk\\\\Documents\\\\rust\\\\codefling bases\\\\conso2\\\\Nightmare Bases\"\n",
    "file_list = os.listdir(folder)"
   ]
  },
  {
   "cell_type": "code",
   "execution_count": 33,
   "metadata": {},
   "outputs": [],
   "source": [
    "filename = \"nightmare\"\n",
    "start_count= 1\n",
    "\n",
    "for index, file in enumerate(file_list):\n",
    "    num_str=str(start_count+index).zfill(2)\n",
    "    os.rename(os.path.join(folder, file), os.path.join(folder, ''.join([filename,str(num_str), '.json'])))"
   ]
  },
  {
   "cell_type": "markdown",
   "metadata": {},
   "source": [
    "# config"
   ]
  },
  {
   "cell_type": "code",
   "execution_count": 15,
   "metadata": {},
   "outputs": [
    {
     "name": "stdout",
     "output_type": "stream",
     "text": [
      "{'easy01': [{'Option': 'stability', 'Value': 'true'}, {'Option': 'autoheight', 'Value': 'false'}, {'Option': 'height', 'Value': '1.0'}], 'easy02': [{'Option': 'stability', 'Value': 'true'}, {'Option': 'autoheight', 'Value': 'false'}, {'Option': 'height', 'Value': '1.0'}], 'easy03': [{'Option': 'stability', 'Value': 'true'}, {'Option': 'autoheight', 'Value': 'false'}, {'Option': 'height', 'Value': '1.0'}], 'easy04': [{'Option': 'stability', 'Value': 'true'}, {'Option': 'autoheight', 'Value': 'false'}, {'Option': 'height', 'Value': '1.0'}], 'easy05': [{'Option': 'stability', 'Value': 'true'}, {'Option': 'autoheight', 'Value': 'false'}, {'Option': 'height', 'Value': '1.0'}], 'easy06': [{'Option': 'stability', 'Value': 'true'}, {'Option': 'autoheight', 'Value': 'false'}, {'Option': 'height', 'Value': '1.0'}], 'easy07': [{'Option': 'stability', 'Value': 'true'}, {'Option': 'autoheight', 'Value': 'false'}, {'Option': 'height', 'Value': '1.0'}], 'easy08': [{'Option': 'stability', 'Value': 'true'}, {'Option': 'autoheight', 'Value': 'false'}, {'Option': 'height', 'Value': '1.0'}], 'easy09': [{'Option': 'stability', 'Value': 'true'}, {'Option': 'autoheight', 'Value': 'false'}, {'Option': 'height', 'Value': '1.0'}], 'easy10': [{'Option': 'stability', 'Value': 'true'}, {'Option': 'autoheight', 'Value': 'false'}, {'Option': 'height', 'Value': '1.0'}], 'easy11': [{'Option': 'stability', 'Value': 'true'}, {'Option': 'autoheight', 'Value': 'false'}, {'Option': 'height', 'Value': '1.0'}], 'easy12': [{'Option': 'stability', 'Value': 'true'}, {'Option': 'autoheight', 'Value': 'false'}, {'Option': 'height', 'Value': '1.0'}], 'easy13': [{'Option': 'stability', 'Value': 'true'}, {'Option': 'autoheight', 'Value': 'false'}, {'Option': 'height', 'Value': '1.0'}], 'easy14': [{'Option': 'stability', 'Value': 'true'}, {'Option': 'autoheight', 'Value': 'false'}, {'Option': 'height', 'Value': '1.0'}], 'easy15': [{'Option': 'stability', 'Value': 'true'}, {'Option': 'autoheight', 'Value': 'false'}, {'Option': 'height', 'Value': '1.0'}], 'easy16': [{'Option': 'stability', 'Value': 'true'}, {'Option': 'autoheight', 'Value': 'false'}, {'Option': 'height', 'Value': '1.0'}], 'easy17': [{'Option': 'stability', 'Value': 'true'}, {'Option': 'autoheight', 'Value': 'false'}, {'Option': 'height', 'Value': '1.0'}], 'easy18': [{'Option': 'stability', 'Value': 'true'}, {'Option': 'autoheight', 'Value': 'false'}, {'Option': 'height', 'Value': '1.0'}], 'easy19': [{'Option': 'stability', 'Value': 'true'}, {'Option': 'autoheight', 'Value': 'false'}, {'Option': 'height', 'Value': '1.0'}], 'easy20': [{'Option': 'stability', 'Value': 'true'}, {'Option': 'autoheight', 'Value': 'false'}, {'Option': 'height', 'Value': '1.0'}], 'easy21': [{'Option': 'stability', 'Value': 'true'}, {'Option': 'autoheight', 'Value': 'false'}, {'Option': 'height', 'Value': '1.0'}], 'easy22': [{'Option': 'stability', 'Value': 'true'}, {'Option': 'autoheight', 'Value': 'false'}, {'Option': 'height', 'Value': '1.0'}], 'easy23': [{'Option': 'stability', 'Value': 'true'}, {'Option': 'autoheight', 'Value': 'false'}, {'Option': 'height', 'Value': '1.0'}], 'easy24': [{'Option': 'stability', 'Value': 'true'}, {'Option': 'autoheight', 'Value': 'false'}, {'Option': 'height', 'Value': '1.0'}], 'easy25': [{'Option': 'stability', 'Value': 'true'}, {'Option': 'autoheight', 'Value': 'false'}, {'Option': 'height', 'Value': '1.0'}], 'easy26': [{'Option': 'stability', 'Value': 'true'}, {'Option': 'autoheight', 'Value': 'false'}, {'Option': 'height', 'Value': '1.0'}], 'easy27': [{'Option': 'stability', 'Value': 'true'}, {'Option': 'autoheight', 'Value': 'false'}, {'Option': 'height', 'Value': '1.0'}], 'easy28': [{'Option': 'stability', 'Value': 'true'}, {'Option': 'autoheight', 'Value': 'false'}, {'Option': 'height', 'Value': '1.0'}], 'easy29': [{'Option': 'stability', 'Value': 'true'}, {'Option': 'autoheight', 'Value': 'false'}, {'Option': 'height', 'Value': '1.0'}], 'easy30': [{'Option': 'stability', 'Value': 'true'}, {'Option': 'autoheight', 'Value': 'false'}, {'Option': 'height', 'Value': '1.0'}], 'easy31': [{'Option': 'stability', 'Value': 'true'}, {'Option': 'autoheight', 'Value': 'false'}, {'Option': 'height', 'Value': '1.0'}], 'easy32': [{'Option': 'stability', 'Value': 'true'}, {'Option': 'autoheight', 'Value': 'false'}, {'Option': 'height', 'Value': '1.0'}], 'easy33': [{'Option': 'stability', 'Value': 'true'}, {'Option': 'autoheight', 'Value': 'false'}, {'Option': 'height', 'Value': '1.0'}], 'easy34': [{'Option': 'stability', 'Value': 'true'}, {'Option': 'autoheight', 'Value': 'false'}, {'Option': 'height', 'Value': '1.0'}], 'easy35': [{'Option': 'stability', 'Value': 'true'}, {'Option': 'autoheight', 'Value': 'false'}, {'Option': 'height', 'Value': '1.0'}], 'easy36': [{'Option': 'stability', 'Value': 'true'}, {'Option': 'autoheight', 'Value': 'false'}, {'Option': 'height', 'Value': '1.0'}], 'easy37': [{'Option': 'stability', 'Value': 'true'}, {'Option': 'autoheight', 'Value': 'false'}, {'Option': 'height', 'Value': '1.0'}], 'easy38': [{'Option': 'stability', 'Value': 'true'}, {'Option': 'autoheight', 'Value': 'false'}, {'Option': 'height', 'Value': '1.0'}], 'easy39': [{'Option': 'stability', 'Value': 'true'}, {'Option': 'autoheight', 'Value': 'false'}, {'Option': 'height', 'Value': '1.0'}], 'easy40': [{'Option': 'stability', 'Value': 'true'}, {'Option': 'autoheight', 'Value': 'false'}, {'Option': 'height', 'Value': '1.0'}], 'easy41': [{'Option': 'stability', 'Value': 'true'}, {'Option': 'autoheight', 'Value': 'false'}, {'Option': 'height', 'Value': '1.0'}], 'easy42': [{'Option': 'stability', 'Value': 'true'}, {'Option': 'autoheight', 'Value': 'false'}, {'Option': 'height', 'Value': '1.0'}], 'easy43': [{'Option': 'stability', 'Value': 'true'}, {'Option': 'autoheight', 'Value': 'false'}, {'Option': 'height', 'Value': '1.0'}], 'easy44': [{'Option': 'stability', 'Value': 'true'}, {'Option': 'autoheight', 'Value': 'false'}, {'Option': 'height', 'Value': '1.0'}], 'easy45': [{'Option': 'stability', 'Value': 'true'}, {'Option': 'autoheight', 'Value': 'false'}, {'Option': 'height', 'Value': '1.0'}]}\n"
     ]
    }
   ],
   "source": [
    "end_counter = 45\n",
    "str_name = \"easy\"\n",
    "data = {}\n",
    "\n",
    "for i in range(1,end_counter+1,1):\n",
    "    num_str=str(i).zfill(2)\n",
    "    base_name = \"\".join([str_name,num_str])\n",
    "    data[base_name] = [\n",
    "      {\n",
    "        \"Option\": \"stability\",\n",
    "        \"Value\": \"true\"\n",
    "      },\n",
    "      {\n",
    "        \"Option\": \"autoheight\",\n",
    "        \"Value\": \"false\"\n",
    "      },\n",
    "      {\n",
    "        \"Option\": \"height\",\n",
    "        \"Value\": \"1.0\"\n",
    "      }]\n",
    "\n",
    "\n",
    "\n",
    "\n",
    "\n",
    "\n",
    "print(data)"
   ]
  },
  {
   "cell_type": "markdown",
   "metadata": {},
   "source": [
    "# compare files"
   ]
  },
  {
   "cell_type": "markdown",
   "metadata": {},
   "source": [
    "1. get all files\n",
    "2. identify duplicates\n",
    "3. order by difficulty"
   ]
  },
  {
   "cell_type": "code",
   "execution_count": null,
   "metadata": {},
   "outputs": [],
   "source": []
  }
 ],
 "metadata": {
  "kernelspec": {
   "display_name": "Python 3",
   "language": "python",
   "name": "python3"
  },
  "language_info": {
   "codemirror_mode": {
    "name": "ipython",
    "version": 3
   },
   "file_extension": ".py",
   "mimetype": "text/x-python",
   "name": "python",
   "nbconvert_exporter": "python",
   "pygments_lexer": "ipython3",
   "version": "3.8.5"
  }
 },
 "nbformat": 4,
 "nbformat_minor": 4
}
