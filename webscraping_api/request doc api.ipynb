{
 "cells": [
  {
   "cell_type": "code",
   "execution_count": 54,
   "id": "1d6ccca3",
   "metadata": {},
   "outputs": [],
   "source": [
    "import requests\n",
    "\n",
    "#Go to dev tools, select network, filter to XHR or docs, review requests (usually the largest), get header info\n",
    "#modify this however you need to query the api e.g. sorting, page (experiment on the website first!)\n",
    "url = 'https://shopee.ph/api/v4/pages/get_category_tree'\n",
    "\n",
    "\n",
    "r = requests.get(url)\n",
    "\n",
    "# this is the \"page\" data \n",
    "data = r.text"
   ]
  },
  {
   "cell_type": "code",
   "execution_count": 55,
   "id": "6fc5fc1b",
   "metadata": {},
   "outputs": [],
   "source": [
    "import json"
   ]
  },
  {
   "cell_type": "code",
   "execution_count": 56,
   "id": "5eb155e3",
   "metadata": {},
   "outputs": [],
   "source": [
    "json_sh = json.loads(data)"
   ]
  },
  {
   "cell_type": "code",
   "execution_count": 57,
   "id": "9dc0a7d1",
   "metadata": {},
   "outputs": [
    {
     "data": {
      "text/plain": [
       "dict_keys(['data', 'error', 'error_msg'])"
      ]
     },
     "execution_count": 57,
     "metadata": {},
     "output_type": "execute_result"
    }
   ],
   "source": [
    "json_sh.keys()"
   ]
  },
  {
   "cell_type": "code",
   "execution_count": 58,
   "id": "75950cb9",
   "metadata": {},
   "outputs": [
    {
     "data": {
      "text/plain": [
       "dict_keys(['category_list', 'just_for_you_data'])"
      ]
     },
     "execution_count": 58,
     "metadata": {},
     "output_type": "execute_result"
    }
   ],
   "source": [
    "json_sh['data'].keys()"
   ]
  },
  {
   "cell_type": "code",
   "execution_count": 59,
   "id": "0fcf0b42",
   "metadata": {},
   "outputs": [
    {
     "data": {
      "text/plain": [
       "25"
      ]
     },
     "execution_count": 59,
     "metadata": {},
     "output_type": "execute_result"
    }
   ],
   "source": [
    "len(json_sh['data']['category_list'])"
   ]
  },
  {
   "cell_type": "code",
   "execution_count": 60,
   "id": "4ee81ed0",
   "metadata": {},
   "outputs": [
    {
     "name": "stdout",
     "output_type": "stream",
     "text": [
      "Men's Apparel\n",
      "Women's Apparel\n",
      "Mobiles & Gadgets\n",
      "Health & Personal Care\n",
      "Mobiles Accessories\n",
      "Makeup & Fragrances\n",
      "Home Entertainment\n",
      "Home Appliances\n",
      "Babies & Kids\n",
      "Laptops & Computers\n",
      "Home & Living\n",
      "Cameras\n",
      "Groceries\n",
      "Sports & Travel\n",
      "Toys, Games & Collectibles\n",
      "Men's Bags & Accessories\n",
      "Women's Bags\n",
      "Men's Shoes\n",
      "Women Accessories\n",
      "Motors\n",
      "Women's Shoes\n",
      "Hobbies & Stationery\n",
      "Pet Care\n",
      "Gaming\n",
      "Audio\n"
     ]
    }
   ],
   "source": [
    "for i in json_sh['data']['category_list']:\n",
    "    print(i['name'])"
   ]
  },
  {
   "cell_type": "code",
   "execution_count": null,
   "id": "485ae532",
   "metadata": {},
   "outputs": [],
   "source": []
  }
 ],
 "metadata": {
  "kernelspec": {
   "display_name": "Python 3 (ipykernel)",
   "language": "python",
   "name": "python3"
  },
  "language_info": {
   "codemirror_mode": {
    "name": "ipython",
    "version": 3
   },
   "file_extension": ".py",
   "mimetype": "text/x-python",
   "name": "python",
   "nbconvert_exporter": "python",
   "pygments_lexer": "ipython3",
   "version": "3.11.5"
  }
 },
 "nbformat": 4,
 "nbformat_minor": 5
}
