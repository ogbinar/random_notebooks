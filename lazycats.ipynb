{
 "cells": [
  {
   "cell_type": "markdown",
   "metadata": {},
   "source": [
    "# get skin sub cats"
   ]
  },
  {
   "cell_type": "code",
   "execution_count": 1,
   "metadata": {},
   "outputs": [],
   "source": [
    "import requests\n",
    "\n",
    "url = 'https://www.lazada.com.ph/'\n",
    "\n",
    "r = requests.get(url)\n",
    "from bs4 import BeautifulSoup\n",
    "soup = BeautifulSoup(r.content, 'html.parser')\n"
   ]
  },
  {
   "cell_type": "code",
   "execution_count": 2,
   "metadata": {},
   "outputs": [
    {
     "name": "stdout",
     "output_type": "stream",
     "text": [
      "191 http://www.lazada.com.ph/shop-skincare-face-treatments-serums/\n",
      "192 http://www.lazada.com.ph/shop-facial-moisturizers/\n",
      "193 http://www.lazada.com.ph/shop-skincare-face-mask-packs/\n",
      "194 http://www.lazada.com.ph/shop-face-cleanser/\n",
      "195 http://www.lazada.com.ph/shop-toner-mists/\n",
      "196 http://www.lazada.com.ph/shop-dermacare/\n",
      "197 http://www.lazada.com.ph/shop-HealthBeauty-SkinCare-SpotsBlemishes/\n",
      "198 http://www.lazada.com.ph/shop-eye-treatment/\n",
      "199 http://www.lazada.com.ph/shop-sunscreen-aftersun-lotion/\n",
      "200 http://www.lazada.com.ph/shop-gifts-value-sets/\n",
      "\n",
      "Final List\n",
      "['http://www.lazada.com.ph/shop-skincare-face-treatments-serums/', 'http://www.lazada.com.ph/shop-facial-moisturizers/', 'http://www.lazada.com.ph/shop-skincare-face-mask-packs/', 'http://www.lazada.com.ph/shop-face-cleanser/', 'http://www.lazada.com.ph/shop-toner-mists/', 'http://www.lazada.com.ph/shop-dermacare/', 'http://www.lazada.com.ph/shop-HealthBeauty-SkinCare-SpotsBlemishes/', 'http://www.lazada.com.ph/shop-eye-treatment/', 'http://www.lazada.com.ph/shop-sunscreen-aftersun-lotion/', 'http://www.lazada.com.ph/shop-gifts-value-sets/']\n"
     ]
    }
   ],
   "source": [
    "#191 to 200\n",
    "\n",
    "catLinks = []\n",
    "for index,item in enumerate(soup.find_all(\"li\",class_='lzd-site-menu-grand-item')):\n",
    "    \n",
    "    if(index>=191 and index<=200):\n",
    "        linkStr = item.a['href']\n",
    "        linkStr = \"\".join([\"http:\",linkStr])\n",
    "        print(index,linkStr)\n",
    "        catLinks.append(linkStr)\n",
    "\n",
    "print(\"\\nFinal List\")\n",
    "print(catLinks)"
   ]
  },
  {
   "cell_type": "markdown",
   "metadata": {},
   "source": [
    "# Get total page count per sub cats"
   ]
  },
  {
   "cell_type": "code",
   "execution_count": 3,
   "metadata": {},
   "outputs": [],
   "source": [
    "import json\n",
    "\n",
    "url = 'http://www.lazada.com.ph/shop-skincare-face-treatments-serums/'\n",
    "\n",
    "\n",
    "headers = {\n",
    "'accept-language':'en-US,en;q=0.9',\n",
    "'user-agent':'Mozilla/5.0 (Windows NT 10.0; Win64; x64) AppleWebKit/537.36 (KHTML, like Gecko) Chrome/103.0.0.0 Safari/537.36',\n",
    "'content-type':'text/html; charset=utf-8'\n",
    "}\n",
    "\n",
    "r = requests.get(url,headers=headers)\n",
    "\n",
    "soup = BeautifulSoup(r.content, 'html.parser')\n",
    "jsonStr = soup.find_all(\"script\")[2].text.split(\"\\n\")[1].split(\"pageData =\")[1].strip().strip(\";\")\n",
    "jsonObj = json.loads(jsonStr)\n",
    "# jsonObj"
   ]
  },
  {
   "cell_type": "code",
   "execution_count": 4,
   "metadata": {},
   "outputs": [
    {
     "data": {
      "text/plain": [
       "dict_keys(['mods', 'mainInfo', 'lcpImagePath'])"
      ]
     },
     "execution_count": 4,
     "metadata": {},
     "output_type": "execute_result"
    }
   ],
   "source": [
    "jsonObj.keys()"
   ]
  },
  {
   "cell_type": "code",
   "execution_count": 5,
   "metadata": {},
   "outputs": [
    {
     "data": {
      "text/plain": [
       "102.0"
      ]
     },
     "execution_count": 5,
     "metadata": {},
     "output_type": "execute_result"
    }
   ],
   "source": [
    "# get the max pages\n",
    "\n",
    "int(jsonObj['mainInfo']['totalResults']) / int(jsonObj['mainInfo']['pageSize'])"
   ]
  },
  {
   "cell_type": "markdown",
   "metadata": {},
   "source": [
    "# extract page json from api"
   ]
  },
  {
   "cell_type": "code",
   "execution_count": 6,
   "metadata": {},
   "outputs": [],
   "source": [
    "import json\n",
    "\n",
    "page=50\n",
    "\n",
    "url = 'https://www.lazada.com.ph/shop-skincare-face-treatments-serums/?page='+str(page)\n",
    "\n",
    "headers = {\n",
    "'accept-language':'en-US,en;q=0.9',\n",
    "'user-agent':'Mozilla/5.0 (Windows NT 10.0; Win64; x64) AppleWebKit/537.36 (KHTML, like Gecko) Chrome/103.0.0.0 Safari/537.36',\n",
    "'content-type':'text/html; charset=utf-8'\n",
    "}\n",
    "\n",
    "r = requests.get(url,headers=headers)\n",
    "\n",
    "soup = BeautifulSoup(r.content, 'html.parser')\n",
    "\n",
    "jsonStr = soup.find_all(\"script\")[2].text.split(\"\\n\")[1].split(\"pageData =\")[1].strip().strip(\";\")\n",
    "jsonObj = json.loads(jsonStr)\n",
    "# jsonObj"
   ]
  },
  {
   "cell_type": "code",
   "execution_count": 7,
   "metadata": {},
   "outputs": [
    {
     "data": {
      "text/plain": [
       "dict_keys(['mods', 'mainInfo'])"
      ]
     },
     "execution_count": 7,
     "metadata": {},
     "output_type": "execute_result"
    }
   ],
   "source": [
    "jsonObj.keys()"
   ]
  },
  {
   "cell_type": "code",
   "execution_count": 8,
   "metadata": {},
   "outputs": [
    {
     "data": {
      "text/plain": [
       "dict_keys(['brandBar', 'filter', 'listItems', 'breadcrumb', 'sortBar', 'campaignBanner', 'resultTips', 'linksInfo', 'LazadaDecoration'])"
      ]
     },
     "execution_count": 8,
     "metadata": {},
     "output_type": "execute_result"
    }
   ],
   "source": [
    "jsonObj['mods'].keys()"
   ]
  },
  {
   "cell_type": "code",
   "execution_count": 9,
   "metadata": {},
   "outputs": [
    {
     "name": "stdout",
     "output_type": "stream",
     "text": [
      "0 BREYLEE Vitamin C Serum For Face Whitening Dark Spot Remover Essence Brightening Glass Skin Care Fade Freckle 17ml ₱177.67\n",
      "1 Aichun Aloe Vera Soothing Gel 30ml for Pore Minimizer and After-sun Repair, Moisturizer/Serum for face Whitening, Beauty Products Gives you Perfect Skin.（30ml） ₱99\n",
      "2 TRENDING & MOST POPULAR Japan Sakura Sets Laikou Japan Sakura Sakura Melasma Cream Set Sakura Blossom Essn Japan Sakura Toner Japan Sakura Serum, Japan Sakura Cleanser, Japan Sakura Mud Japan Sakura Serum Shrink Pores ₱426\n",
      "3 nose lifting up essential oil original nose lift up lifting oil nose lifter for men clip for boys with oil bid farewell to a collapsed nose Make you have a natural and beautiful nose Effective Anti-Aging Anti-Wrinkle Shape Firmming Nose skin face Care ₱298\n",
      "4 Nose Lift Up lifting Essential Oil nose lifter for men wirinef nose oil nose up lifting clip for boys wirinef nose oil nose enhancer oil effective essential oil for nose nose lifter for flat nose bid farewell to a collapsed nose Effective Nose Up Tighten ₱298\n",
      "5 AHA SERUM MEGADOSE ₱96.04\n",
      "6 100% AUTHENTIC JAPAN Sakura Vitamin C 24K Gold Face Serum Hyaluronic Acid Shrink Pores Remove Acne Moisturizing Essence Brighten Facial Skin ₱130.32\n",
      "7 Vitamin C Serum For Face serum vitamin c collagen Whitening Dark Spot Remover Essence Brightening Glass Skin Care Fade Freckle niacinamide serum ₱64\n",
      "8 GIVA 100% Original Sakura Serum, Pore Refining serum Essence, Wrinkle Fine Lines Remover, Korean skin whitening serum moisturizing, Anti aging serum, Best selling JAPAN Sakura Facial Serum Hyaluronic acid Moisturizing ₱47\n",
      "9 [ ACNE REMOVER + WHITENING ] Greenika Tea Tree Facial Serum Anti-Acne Treatment, Shrinks Pores, Best Facial Moisturizer Quick Absorbing Scar Remover Anti Acne Facial & Body Anti Aging Serum Vitamin E Face Skin Moisturizer Pure Tea Tree Oil Pimple Eraser ₱96.1\n",
      "10 100% ORIGINAL Mimi White AHA Whitening Serum ₱109.25\n",
      "11 [AUTHENTIC] COSRX Advanced Snail 96 Mucin Power Essence ₱598\n",
      "12 MELAO Natural Vitamin C Facial Serum Hyaluronic Acid Anti-Aging Anti-Wrinkle and Stretch Marks VC Essence Vit For Face And Dark Lip ₱97\n",
      "13 Vitamin C & E Bright-C Brightening Facial Serum (30ml) with Vitamin E Beyond Beautiful [ALL NATURAL, Anti-Aging, Fades Dark Spots, UV Protection, Treats Hyperpigmentation] ₱99.5\n",
      "14 [Bundle] POND's Bright Triple Glow Skin Brightening Facial Serum for Glowing Skin with Gluta-Boost-C, Niacinamide for Skin, and Hyaluronic Acid Complex 30g ₱491\n",
      "15 UBetter Retinol Anti Aging Serum for Face and Skin Firming Collagen Fine Lines Repairing Essence 30ml ₱125\n",
      "16 KOREA'S #1 WHITENING Aichun Sexy Pink Underarm, Nipple, Private Parts, Whitening Gel Essence LOWEST PRICE GUARANTEED ₱199\n",
      "17 Acne Killer！ Aichun Acne Cream 30ml It can remove acne marks, acne, pimple, and folliculitis without leaving scars. Facial Care Pimple Removal  Cream Acne Repair Gel Serum Pimple Marks Remover Cream ₱102\n",
      "18 Buy 2 Take 1✨【COD】Serum For Face Anti Wrinkles Products Anti Aging Serum Si* Peptides Serum With Si* Peptides Advanced Moisturizer Farale* Best Anti Aging Serum Fine Lines Minimizes Wrinkles Face Whitening ₱165\n",
      "19 LANBENA Acne Treatment Serum Oilgopeptide Anti Acne Solution Reduce Mark Shrink Pores Deep Repair Strengthen Skin Bottom 30ML ₱305\n",
      "20 Serum Pore Minimizer Pore Tightening Serum Shrink Pores And Repair Skin Damages Pore Refining Serum Tightens Moisturizing Essence Smooth Skin Moisturer Whitening Oil Control Facial Essence Skin Care ₱224\n",
      "21 LANBENA Vitamin C Serum Remove Freckle Fade Dark Spot Anti-aging Whiten Moisturize Facial Serum ₱69\n",
      "22 VIBRANT GLAMOUR Salicylic acid Serum+Vitamin C Serum+Hyaluronic Acid Serum 30ml Series Set For Pore Minimizer Whitening,Anti-Aging Brightening Remove Dark Spots Firming Moisturizing Oil Control Repairing Smooth Skin Care ₱169\n",
      "23 Dr. Sensitive Intensive Glutathione Glow Serum with Vit E 10mL ₱89\n",
      "24 AHA Serum ₱130\n",
      "25 (With freebie) Catt & Co Bright & Free Nipple Serum ₱284.05\n",
      "26 Acid Buffet Concentrate All in One Serum with AHA + BHA  by Queen White ₱146\n",
      "27 15ML SERUM DROPPER EMPTY BOTTLE (10pcs) ₱110\n",
      "28 Nisce Skin Basics Anti-acne Pack ₱246.83\n",
      "29 [COSRX] Advanced Snail 96 Mucin Power Essence 100ml ₱649\n",
      "30 LUXE ORGANIX Whitening Repair Serum Niacinamide 10% 30ml ₱549\n",
      "31 BREYLEE Retinol Serum Lifting Firming Reducing Fine Lines Facial Essence Skincare for face 17ml ₱135\n",
      "32 Natural Retinol Cream Original Retinol Serum Anti-Aging Anti-Wrinkle Brightening Skin Retinol Serum for Melasma Retinol Serum Anti Aging Original Whitening Moisturizer Moisturizing  Skin Care Product for Face Skin Care Serum Fading Dark Spots Fine Lines ₱125.1\n",
      "33 DR ALVIN AHA SERUM ₱150\n",
      "34 【Worry-Free】VIBRANT GLAMOUR Pore Tightening SerumPores Remover For Face Pore Minimizer Serum Hyaluronic Acid Serum Face Serum Moisturizing Whitening Essence ₱308\n",
      "35 Garnier Bright Complete Day and Night Super Glow Trio: Vitamin C Serum (30ML), Night Cream (50ML), Day Cream (50ML) SPF 36 Moisturizer For Face - Skin Care Set For Dark Spots, Brightening, Dull Skin ₱1,078\n",
      "36 Original 24K Goldzan Ampoule Serum Whitening Face Prevents Gold Serum, Anti-Wrinkles, Anti-Pores, Anti-Aging Serum the Creation of Skin Blemishes Lifting Pure Gold Moisture ₱102\n",
      "37 Dr. Sensitive Collagen and Vitamin C Serum 10mL ₱89\n",
      "38 Retinol Serum Anti Aging Original Retinol Cream Anti Aging Original Anti Aging Serum And Wrinkles Face Serum Whitening And Antiaging Retinol Serum For Melasma Retinol Anti Aging Serum Anti Wrinkle Cream ₱139\n",
      "39 Cosrx Advanced snail 96 mucin power essence 100ml ₱599\n",
      "CPU times: total: 31.2 ms\n",
      "Wall time: 40.3 s\n"
     ]
    }
   ],
   "source": [
    "%%time\n",
    "\n",
    "import time\n",
    "\n",
    "\n",
    "\n",
    "for index,item in enumerate(jsonObj['mods']['listItems']):\n",
    "    print(index,item['name'],item['priceShow'])\n",
    "    time.sleep(1) #sleep muna me for 1 sec"
   ]
  },
  {
   "cell_type": "code",
   "execution_count": null,
   "metadata": {},
   "outputs": [],
   "source": []
  },
  {
   "cell_type": "code",
   "execution_count": null,
   "metadata": {},
   "outputs": [],
   "source": []
  }
 ],
 "metadata": {
  "kernelspec": {
   "display_name": "Python 3 (ipykernel)",
   "language": "python",
   "name": "python3"
  },
  "language_info": {
   "codemirror_mode": {
    "name": "ipython",
    "version": 3
   },
   "file_extension": ".py",
   "mimetype": "text/x-python",
   "name": "python",
   "nbconvert_exporter": "python",
   "pygments_lexer": "ipython3",
   "version": "3.9.12"
  }
 },
 "nbformat": 4,
 "nbformat_minor": 4
}
