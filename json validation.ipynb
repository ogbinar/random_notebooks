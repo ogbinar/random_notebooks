{
 "cells": [
  {
   "cell_type": "markdown",
   "metadata": {},
   "source": [
    "# json validation"
   ]
  },
  {
   "cell_type": "code",
   "execution_count": 28,
   "metadata": {},
   "outputs": [],
   "source": [
    "import os\n",
    "folder = \"C:\\\\Users\\\\Myk\\\\Documents\\\\rust\\\\\\copypaste\"\n",
    "file_list = os.listdir(folder)"
   ]
  },
  {
   "cell_type": "markdown",
   "metadata": {},
   "source": [
    "# config"
   ]
  },
  {
   "cell_type": "code",
   "execution_count": 29,
   "metadata": {},
   "outputs": [],
   "source": [
    "import json\n",
    "\n",
    "def validateJSON(jsonData):\n",
    "    try:\n",
    "        #json.loads(jsonData)\n",
    "        f = open(jsonData)#, encoding=\"utf8\")\n",
    "        json.load(f)\n",
    "        f.close\n",
    "    except ValueError as err:\n",
    "        print(\"ERROR: \", err)\n",
    "        return False\n",
    "    return True"
   ]
  },
  {
   "cell_type": "code",
   "execution_count": 30,
   "metadata": {},
   "outputs": [
    {
     "name": "stdout",
     "output_type": "stream",
     "text": [
      "ERROR:  'charmap' codec can't decode byte 0x8d in position 391905: character maps to <undefined>\n",
      "nightmare20.json  JSON string is Valid  False\n",
      "Total not valid: 1\n"
     ]
    }
   ],
   "source": [
    "count = 0\n",
    "for index, file in enumerate(file_list):\n",
    "    jsonfile = \"\".join([folder,'\\\\',file])\n",
    "    #print(jsonfile)\n",
    "    isValid = validateJSON(jsonfile)\n",
    "    if(not isValid):\n",
    "        print(file, \" JSON string is Valid \", isValid)\n",
    "        count=count+1  \n",
    "print(\"Total not valid:\",count)"
   ]
  },
  {
   "cell_type": "code",
   "execution_count": null,
   "metadata": {},
   "outputs": [],
   "source": []
  }
 ],
 "metadata": {
  "kernelspec": {
   "display_name": "Python 3",
   "language": "python",
   "name": "python3"
  },
  "language_info": {
   "codemirror_mode": {
    "name": "ipython",
    "version": 3
   },
   "file_extension": ".py",
   "mimetype": "text/x-python",
   "name": "python",
   "nbconvert_exporter": "python",
   "pygments_lexer": "ipython3",
   "version": "3.8.5"
  }
 },
 "nbformat": 4,
 "nbformat_minor": 4
}
