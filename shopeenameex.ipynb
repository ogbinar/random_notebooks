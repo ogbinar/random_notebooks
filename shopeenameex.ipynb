{
 "cells": [
  {
   "cell_type": "code",
   "execution_count": 6,
   "id": "79df58c7",
   "metadata": {},
   "outputs": [],
   "source": [
    "import pandas as pd"
   ]
  },
  {
   "cell_type": "code",
   "execution_count": 7,
   "id": "b3a9cf28",
   "metadata": {},
   "outputs": [],
   "source": [
    "shopee = pd.read_excel(\"[SUBCAT_RAW] Shopee.xlsx\")"
   ]
  },
  {
   "cell_type": "code",
   "execution_count": 8,
   "id": "7d12ccbe",
   "metadata": {},
   "outputs": [],
   "source": [
    "shopee = shopee.drop(columns=['Unnamed: 0'])"
   ]
  },
  {
   "cell_type": "code",
   "execution_count": 9,
   "id": "861d300d",
   "metadata": {
    "scrolled": true
   },
   "outputs": [
    {
     "data": {
      "text/plain": [
       "Index(['itemid', 'shopid', 'name', 'label_ids', 'image', 'images', 'currency',\n",
       "       'stock', 'status', 'ctime', 'sold', 'liked_count', 'historical_sold',\n",
       "       'liked', 'view_count', 'catid', 'brand', 'cmt_count', 'flag',\n",
       "       'cb_option', 'item_status', 'price', 'price_min', 'price_max',\n",
       "       'price_min_before_discount', 'price_max_before_discount',\n",
       "       'hidden_price_display', 'price_before_discount',\n",
       "       'has_lowest_price_guarantee', 'discount', 'is_category_failed',\n",
       "       'size_chart', 'video_info_list', 'tier_variations', 'item_rating',\n",
       "       'item_type', 'reference_item_id', 'transparent_background_image',\n",
       "       'is_adult', 'badge_icon_type', 'shopee_verified', 'is_official_shop',\n",
       "       'show_official_shop_label', 'show_shopee_verified_label',\n",
       "       'show_official_shop_label_in_title',\n",
       "       'is_cc_installment_payment_eligible',\n",
       "       'is_non_cc_installment_payment_eligible', 'coin_earn_label',\n",
       "       'show_free_shipping', 'has_group_buy_stock', 'group_buy_info',\n",
       "       'welcome_package_type', 'welcome_package_info', 'add_on_deal_info',\n",
       "       'can_use_wholesale', 'is_preferred_plus_seller', 'shop_location',\n",
       "       'has_model_with_available_shopee_stock', 'voucher_info', 'can_use_cod',\n",
       "       'is_on_flash_sale', 'spl_installment_tenure', 'is_live_streaming_price',\n",
       "       'is_mart', 'pack_size', 'deep_discount_skin', 'is_service_by_shopee'],\n",
       "      dtype='object')"
      ]
     },
     "execution_count": 9,
     "metadata": {},
     "output_type": "execute_result"
    }
   ],
   "source": [
    "shopee.columns"
   ]
  },
  {
   "cell_type": "code",
   "execution_count": 10,
   "id": "2870be1d",
   "metadata": {
    "scrolled": false
   },
   "outputs": [
    {
     "data": {
      "text/html": [
       "<div>\n",
       "<style scoped>\n",
       "    .dataframe tbody tr th:only-of-type {\n",
       "        vertical-align: middle;\n",
       "    }\n",
       "\n",
       "    .dataframe tbody tr th {\n",
       "        vertical-align: top;\n",
       "    }\n",
       "\n",
       "    .dataframe thead th {\n",
       "        text-align: right;\n",
       "    }\n",
       "</style>\n",
       "<table border=\"1\" class=\"dataframe\">\n",
       "  <thead>\n",
       "    <tr style=\"text-align: right;\">\n",
       "      <th></th>\n",
       "      <th>itemid</th>\n",
       "      <th>shopid</th>\n",
       "      <th>name</th>\n",
       "      <th>label_ids</th>\n",
       "      <th>image</th>\n",
       "      <th>images</th>\n",
       "      <th>currency</th>\n",
       "      <th>stock</th>\n",
       "      <th>status</th>\n",
       "      <th>ctime</th>\n",
       "      <th>...</th>\n",
       "      <th>has_model_with_available_shopee_stock</th>\n",
       "      <th>voucher_info</th>\n",
       "      <th>can_use_cod</th>\n",
       "      <th>is_on_flash_sale</th>\n",
       "      <th>spl_installment_tenure</th>\n",
       "      <th>is_live_streaming_price</th>\n",
       "      <th>is_mart</th>\n",
       "      <th>pack_size</th>\n",
       "      <th>deep_discount_skin</th>\n",
       "      <th>is_service_by_shopee</th>\n",
       "    </tr>\n",
       "  </thead>\n",
       "  <tbody>\n",
       "    <tr>\n",
       "      <th>0</th>\n",
       "      <td>440944247.0</td>\n",
       "      <td>9890386.0</td>\n",
       "      <td>ELUJAI PROPOLIS MYRRH AMPOULE KOREA</td>\n",
       "      <td>[29, 1002562, 1002630, 1002657, 1003126, 10031...</td>\n",
       "      <td>cf3e955f5a3af9471e639fa9b79a9cf5</td>\n",
       "      <td>['cf3e955f5a3af9471e639fa9b79a9cf5', '21600d95...</td>\n",
       "      <td>PHP</td>\n",
       "      <td>8019.0</td>\n",
       "      <td>1.0</td>\n",
       "      <td>1.503656e+09</td>\n",
       "      <td>...</td>\n",
       "      <td>False</td>\n",
       "      <td>NaN</td>\n",
       "      <td>True</td>\n",
       "      <td>False</td>\n",
       "      <td>NaN</td>\n",
       "      <td>NaN</td>\n",
       "      <td>False</td>\n",
       "      <td>NaN</td>\n",
       "      <td>NaN</td>\n",
       "      <td>False</td>\n",
       "    </tr>\n",
       "  </tbody>\n",
       "</table>\n",
       "<p>1 rows × 67 columns</p>\n",
       "</div>"
      ],
      "text/plain": [
       "        itemid     shopid                                 name  \\\n",
       "0  440944247.0  9890386.0  ELUJAI PROPOLIS MYRRH AMPOULE KOREA   \n",
       "\n",
       "                                           label_ids  \\\n",
       "0  [29, 1002562, 1002630, 1002657, 1003126, 10031...   \n",
       "\n",
       "                              image  \\\n",
       "0  cf3e955f5a3af9471e639fa9b79a9cf5   \n",
       "\n",
       "                                              images currency   stock  status  \\\n",
       "0  ['cf3e955f5a3af9471e639fa9b79a9cf5', '21600d95...      PHP  8019.0     1.0   \n",
       "\n",
       "          ctime  ...  has_model_with_available_shopee_stock  voucher_info  \\\n",
       "0  1.503656e+09  ...                                  False           NaN   \n",
       "\n",
       "   can_use_cod  is_on_flash_sale  spl_installment_tenure  \\\n",
       "0         True             False                     NaN   \n",
       "\n",
       "   is_live_streaming_price is_mart  pack_size  deep_discount_skin  \\\n",
       "0                      NaN   False        NaN                 NaN   \n",
       "\n",
       "   is_service_by_shopee  \n",
       "0                 False  \n",
       "\n",
       "[1 rows x 67 columns]"
      ]
     },
     "execution_count": 10,
     "metadata": {},
     "output_type": "execute_result"
    }
   ],
   "source": [
    "shopee.head(1)"
   ]
  },
  {
   "cell_type": "code",
   "execution_count": 11,
   "id": "8ef5a3bb",
   "metadata": {},
   "outputs": [
    {
     "data": {
      "text/plain": [
       "0    ELUJAI PROPOLIS MYRRH AMPOULE KOREA\n",
       "Name: name, dtype: object"
      ]
     },
     "execution_count": 11,
     "metadata": {},
     "output_type": "execute_result"
    }
   ],
   "source": [
    "shopee['name'].head(1)"
   ]
  },
  {
   "cell_type": "code",
   "execution_count": 12,
   "id": "6eb89fb7",
   "metadata": {},
   "outputs": [
    {
     "data": {
      "text/html": [
       "<div>\n",
       "<style scoped>\n",
       "    .dataframe tbody tr th:only-of-type {\n",
       "        vertical-align: middle;\n",
       "    }\n",
       "\n",
       "    .dataframe tbody tr th {\n",
       "        vertical-align: top;\n",
       "    }\n",
       "\n",
       "    .dataframe thead th {\n",
       "        text-align: right;\n",
       "    }\n",
       "</style>\n",
       "<table border=\"1\" class=\"dataframe\">\n",
       "  <thead>\n",
       "    <tr style=\"text-align: right;\">\n",
       "      <th></th>\n",
       "      <th>itemid</th>\n",
       "      <th>shopid</th>\n",
       "      <th>name</th>\n",
       "      <th>label_ids</th>\n",
       "      <th>image</th>\n",
       "      <th>images</th>\n",
       "      <th>currency</th>\n",
       "      <th>stock</th>\n",
       "      <th>status</th>\n",
       "      <th>ctime</th>\n",
       "      <th>...</th>\n",
       "      <th>has_model_with_available_shopee_stock</th>\n",
       "      <th>voucher_info</th>\n",
       "      <th>can_use_cod</th>\n",
       "      <th>is_on_flash_sale</th>\n",
       "      <th>spl_installment_tenure</th>\n",
       "      <th>is_live_streaming_price</th>\n",
       "      <th>is_mart</th>\n",
       "      <th>pack_size</th>\n",
       "      <th>deep_discount_skin</th>\n",
       "      <th>is_service_by_shopee</th>\n",
       "    </tr>\n",
       "  </thead>\n",
       "  <tbody>\n",
       "    <tr>\n",
       "      <th>0</th>\n",
       "      <td>440944247.0</td>\n",
       "      <td>9890386.0</td>\n",
       "      <td>ELUJAI PROPOLIS MYRRH AMPOULE KOREA</td>\n",
       "      <td>[29, 1002562, 1002630, 1002657, 1003126, 10031...</td>\n",
       "      <td>cf3e955f5a3af9471e639fa9b79a9cf5</td>\n",
       "      <td>['cf3e955f5a3af9471e639fa9b79a9cf5', '21600d95...</td>\n",
       "      <td>PHP</td>\n",
       "      <td>8019.0</td>\n",
       "      <td>1.0</td>\n",
       "      <td>1.503656e+09</td>\n",
       "      <td>...</td>\n",
       "      <td>False</td>\n",
       "      <td>NaN</td>\n",
       "      <td>True</td>\n",
       "      <td>False</td>\n",
       "      <td>NaN</td>\n",
       "      <td>NaN</td>\n",
       "      <td>False</td>\n",
       "      <td>NaN</td>\n",
       "      <td>NaN</td>\n",
       "      <td>False</td>\n",
       "    </tr>\n",
       "  </tbody>\n",
       "</table>\n",
       "<p>1 rows × 67 columns</p>\n",
       "</div>"
      ],
      "text/plain": [
       "        itemid     shopid                                 name  \\\n",
       "0  440944247.0  9890386.0  ELUJAI PROPOLIS MYRRH AMPOULE KOREA   \n",
       "\n",
       "                                           label_ids  \\\n",
       "0  [29, 1002562, 1002630, 1002657, 1003126, 10031...   \n",
       "\n",
       "                              image  \\\n",
       "0  cf3e955f5a3af9471e639fa9b79a9cf5   \n",
       "\n",
       "                                              images currency   stock  status  \\\n",
       "0  ['cf3e955f5a3af9471e639fa9b79a9cf5', '21600d95...      PHP  8019.0     1.0   \n",
       "\n",
       "          ctime  ...  has_model_with_available_shopee_stock  voucher_info  \\\n",
       "0  1.503656e+09  ...                                  False           NaN   \n",
       "\n",
       "   can_use_cod  is_on_flash_sale  spl_installment_tenure  \\\n",
       "0         True             False                     NaN   \n",
       "\n",
       "   is_live_streaming_price is_mart  pack_size  deep_discount_skin  \\\n",
       "0                      NaN   False        NaN                 NaN   \n",
       "\n",
       "   is_service_by_shopee  \n",
       "0                 False  \n",
       "\n",
       "[1 rows x 67 columns]"
      ]
     },
     "execution_count": 12,
     "metadata": {},
     "output_type": "execute_result"
    }
   ],
   "source": [
    "shopee.head(1)"
   ]
  },
  {
   "cell_type": "markdown",
   "id": "77d50eff",
   "metadata": {},
   "source": [
    "# Spacy\n",
    "spaCy is one of the best text analysis library. spaCy excels at large-scale information extraction tasks and is one of the fastest in the world. It is also the best way to prepare text for deep learning. spaCy is much faster and accurate than NLTKTagger and TextBlob."
   ]
  },
  {
   "cell_type": "raw",
   "id": "db02df0d",
   "metadata": {},
   "source": [
    "pip install spacy\n",
    "# https://spacy.io/usage/models\n",
    "python -m spacy download en_core_web_sm"
   ]
  },
  {
   "cell_type": "code",
   "execution_count": 3,
   "id": "3eeecf21",
   "metadata": {},
   "outputs": [],
   "source": [
    "import spacy\n",
    "  \n",
    "# python -m spacy download en_core_web_sm\n",
    "nlp = spacy.load(\"en_core_web_sm\")"
   ]
  },
  {
   "cell_type": "code",
   "execution_count": 20,
   "id": "f7809728",
   "metadata": {},
   "outputs": [
    {
     "data": {
      "text/plain": [
       "'ELUJAI PROPOLIS MYRRH AMPOULE KOREA'"
      ]
     },
     "execution_count": 20,
     "metadata": {},
     "output_type": "execute_result"
    }
   ],
   "source": [
    "shopee.head(1).name.values[0]"
   ]
  },
  {
   "cell_type": "code",
   "execution_count": 23,
   "id": "ec8b978a",
   "metadata": {},
   "outputs": [
    {
     "name": "stdout",
     "output_type": "stream",
     "text": [
      "( PUNCT\n",
      "COD PROPN\n",
      ") PUNCT\n",
      "MK PROPN\n",
      "SECRET PROPN\n",
      "TONER PROPN\n",
      "/ SYM\n",
      "CREAM PROPN\n",
      "/ SYM\n",
      "KOJIC PROPN\n",
      "SOAP NOUN\n",
      "Verbs: []\n"
     ]
    }
   ],
   "source": [
    "# Process whole documents\n",
    "text = shopee.head(1).name.values[0]\n",
    "text = \"(COD) MK SECRET TONER/CREAM/KOJIC SOAP\"\n",
    "  \n",
    "doc = nlp(text)\n",
    "  \n",
    "# Token and Tag\n",
    "for token in doc:\n",
    "  print(token, token.pos_)\n",
    "  \n",
    "# You want list of Verb tokens\n",
    "print(\"Verbs:\", [token.text for token in doc if token.pos_ == \"VERB\"])"
   ]
  },
  {
   "cell_type": "code",
   "execution_count": null,
   "id": "dcf6032b",
   "metadata": {},
   "outputs": [],
   "source": []
  }
 ],
 "metadata": {
  "kernelspec": {
   "display_name": "Python 3 (ipykernel)",
   "language": "python",
   "name": "python3"
  },
  "language_info": {
   "codemirror_mode": {
    "name": "ipython",
    "version": 3
   },
   "file_extension": ".py",
   "mimetype": "text/x-python",
   "name": "python",
   "nbconvert_exporter": "python",
   "pygments_lexer": "ipython3",
   "version": "3.9.12"
  }
 },
 "nbformat": 4,
 "nbformat_minor": 5
}
