{
 "cells": [
  {
   "cell_type": "code",
   "execution_count": 5,
   "id": "11ea5bb5",
   "metadata": {},
   "outputs": [],
   "source": [
    "# https://forms.office.com/r/F4THNs3PZP"
   ]
  },
  {
   "cell_type": "code",
   "execution_count": 3,
   "id": "807c56ff",
   "metadata": {},
   "outputs": [],
   "source": [
    "import requests\n",
    "\n",
    "url = \"https://forms.office.com/formapi/api/8fd74cca-5b2a-43ed-ab1e-416e8b7610b8/users/3a2bb9b9-d34a-48cc-8e37-565607b67ec2/forms('ykzXjypb7UOrHkFui3YQuLm5KzpK08xIjjdWVge2fsJURVVUSjgzOVlXSFdCNVpKMVlVTzZUQUk2Uy4u')/responses\"\n",
    "\n",
    "headers = {\n",
    "    'User-Agent': 'Mozilla/5.0 (Windows NT 10.0; Win64; x64) AppleWebKit/537.36 (KHTML, like Gecko) Chrome/105.0.0.0 Safari/537.36'\n",
    "}\n",
    "\n",
    "\n",
    "json = {\n",
    "  \"startDate\": \"2022-10-18T02:34:46.759Z\",\n",
    "  \"submitDate\": \"2022-10-18T02:35:09.047Z\",\n",
    "  \"answers\": \"[{\\\"questionId\\\":\\\"rf78775a2278f4558bdc540eef85f0c74\\\",\\\"answer1\\\":\\\"oh yeah bitches\\\"}]\"\n",
    "} \n",
    "\n",
    "\n",
    "# Create a new resource\n",
    "response = requests.post(url, json = json,headers=headers)\n",
    "\n"
   ]
  },
  {
   "cell_type": "code",
   "execution_count": 4,
   "id": "57d4e1df",
   "metadata": {},
   "outputs": [
    {
     "data": {
      "text/plain": [
       "<Response [201]>"
      ]
     },
     "execution_count": 4,
     "metadata": {},
     "output_type": "execute_result"
    }
   ],
   "source": [
    "response"
   ]
  },
  {
   "cell_type": "code",
   "execution_count": null,
   "id": "0d34b29e",
   "metadata": {},
   "outputs": [],
   "source": []
  }
 ],
 "metadata": {
  "kernelspec": {
   "display_name": "Python 3 (ipykernel)",
   "language": "python",
   "name": "python3"
  },
  "language_info": {
   "codemirror_mode": {
    "name": "ipython",
    "version": 3
   },
   "file_extension": ".py",
   "mimetype": "text/x-python",
   "name": "python",
   "nbconvert_exporter": "python",
   "pygments_lexer": "ipython3",
   "version": "3.9.12"
  }
 },
 "nbformat": 4,
 "nbformat_minor": 5
}
