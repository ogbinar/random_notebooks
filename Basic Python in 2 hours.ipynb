{
 "cells": [
  {
   "cell_type": "markdown",
   "id": "0f2f3052",
   "metadata": {},
   "source": [
    "This is a simple Python Refresher that's good for 2 hours. Enjoy the ride!"
   ]
  },
  {
   "cell_type": "markdown",
   "id": "16e03b89",
   "metadata": {},
   "source": [
    "# STEP 0 - INTRODUCTION\n",
    "\n",
    "## What is Python?\n",
    "Python is a high-level, general-purpose programming language. Its design philosophy emphasizes code readability with the use of significant indentation. Python is dynamically-typed and garbage-collected. It supports multiple programming paradigms, including structured, object-oriented and functional programming.\n",
    "![](https://media.giphy.com/media/KAq5w47R9rmTuvWOWa/giphy.gif)\n",
    "## Why Python?\n",
    "### Python is Easy to Learn and Use\n",
    "Python is incredibly [easy to learn](https://i.imgur.com/slj6rkq.png) and use for beginners and newcomers in the industry. The language is the most accessible among all the programming languages available because it has simplified syntax that is not complicated at all and gives more emphasis on natural language.\n",
    "### It’s Open Source\n",
    "Python is open-source, which means it’s free and uses a community-based model for development.\n",
    "### It’s Well-Supported\n",
    "Anything that can go wrong will go wrong, and if you’re using something that you didn’t need to pay for, getting help can be quite a challenge. Fortunately, Python has a large following and is heavily used in academic and industrial circles, which means that there are plenty of useful analytics libraries available."
   ]
  },
  {
   "cell_type": "markdown",
   "id": "7efc35b0",
   "metadata": {},
   "source": [
    "# STEP 1 - ENVIRONMENT SETUP\n",
    "\n",
    "![](https://media.giphy.com/media/OxCVIkMpdVZdV7rSLl/giphy.gif)"
   ]
  },
  {
   "cell_type": "markdown",
   "id": "c4ff81b6",
   "metadata": {},
   "source": [
    "## Install Locally\n",
    "There are a lot of Python installers in the internet, for our purposes we will use Anaconda.\n",
    "\n",
    "1. Go to https://www.anaconda.com/\n",
    "2. Click download\n",
    "3. Install (you will need admin access)\n",
    "\n",
    "**Anaconda** offers the easiest way to perform Python/R *data science and machine learning* on a single machine. Start working with thousands of open-source packages and libraries today."
   ]
  },
  {
   "cell_type": "markdown",
   "id": "af952064",
   "metadata": {},
   "source": [
    "## Use cloud\n",
    "Online development environment hosted on cloud platforms has been the recent trend lately. It allows us to not sure local resources and keep all development activities on a separate location. Similarly, there are a lot of cloud platforms out there but for our purposes we recommend using Google Colab.\n",
    "\n",
    "1. Open Chrome (or whatever internet browser you use)\n",
    "2. Go to https://colab.research.google.com/\n",
    "3. You might want to login into your Google account to maximize the experience"
   ]
  },
  {
   "cell_type": "markdown",
   "id": "03a825cb",
   "metadata": {},
   "source": [
    "There are some minor differences on using your local environment vs cloud platforms as development environments, but for now we can just base it on your personal development preferences. In the long run (and bigger picture) this will vary wildly depending on business requirements and your company's development process and data science workflow.\n",
    "\n",
    "**Depending on what you plan to use you can use Spyder or Jupyter (From Anaconda), or the Colab Notebook (From Google Colab)**"
   ]
  },
  {
   "cell_type": "markdown",
   "id": "3b6237d8",
   "metadata": {},
   "source": [
    "# STEP 2 - PROGRAMMING CONCEPTS"
   ]
  },
  {
   "cell_type": "markdown",
   "id": "37997c65",
   "metadata": {},
   "source": [
    "## 5 basic programming concepts\n",
    "The following are fundamental concepts that exists in all programming / scripting languages. Understanding of them will be important in your education of Python.\n",
    "\n",
    "- Variables \n",
    "- Data Structures\n",
    "- Control Structures\n",
    "- Syntax\n",
    "- Tools\n",
    "\n",
    "Let's dive deeper into what each of them means!"
   ]
  },
  {
   "cell_type": "markdown",
   "id": "7f83852c",
   "metadata": {},
   "source": [
    "### Variables"
   ]
  },
  {
   "cell_type": "markdown",
   "id": "936832fa",
   "metadata": {},
   "source": [
    "A Python variable is a symbolic name that is a reference or pointer to an object. Once an object is assigned to a variable, you can refer to the object by that name."
   ]
  },
  {
   "cell_type": "markdown",
   "id": "0b51bae4",
   "metadata": {},
   "source": [
    "### Data Structures"
   ]
  },
  {
   "cell_type": "markdown",
   "id": "75256619",
   "metadata": {},
   "source": [
    "The basic Python data structures in Python include list, set, tuples, and dictionary. Each of the data structures is unique in its own way. Data structures are “containers” that organize and group data according to type. The data structures differ based on mutability and order."
   ]
  },
  {
   "cell_type": "markdown",
   "id": "59412799",
   "metadata": {},
   "source": [
    "### Control Structures"
   ]
  },
  {
   "cell_type": "markdown",
   "id": "b6de35d0",
   "metadata": {},
   "source": [
    "A control structure (or flow of control) is a block of programming that analyses variables and chooses a direction in which to go based on given parameters. In simple sentence, a control structure is just a decision that the computer makes."
   ]
  },
  {
   "cell_type": "markdown",
   "id": "93507d77",
   "metadata": {},
   "source": [
    "### Syntax"
   ]
  },
  {
   "cell_type": "markdown",
   "id": "ce849da6",
   "metadata": {},
   "source": [
    "The syntax of the Python programming language is the set of rules that defines how a Python program will be written and interpreted (by both the runtime system and by human readers)."
   ]
  },
  {
   "cell_type": "markdown",
   "id": "fd5b5f7d",
   "metadata": {},
   "source": [
    "### Tools\n",
    "A tool in programming is a piece of software that, when used while you code, allows you to get your program done faster!\n",
    "- IDE (Integrated Development Environment)\n",
    "- Bug Tracker\n",
    "- Build Automation\n",
    "- Code Review\n",
    "- Debugger\n",
    "- Documentation Generator\n",
    "- Revision Control / Code Repository\n",
    "- External code libraries\n",
    "- Code Tester"
   ]
  },
  {
   "cell_type": "markdown",
   "id": "2f26a668",
   "metadata": {},
   "source": [
    "# STEP 3 - YOUR FIRST PROGRAM"
   ]
  },
  {
   "cell_type": "raw",
   "id": "05d2360c",
   "metadata": {},
   "source": [
    "variables\n",
    "operations\n",
    "asking for input\n",
    "comments\n",
    "strings, lists, tuples"
   ]
  },
  {
   "cell_type": "markdown",
   "id": "0a90f33e",
   "metadata": {},
   "source": [
    "# STEP 4 - EXPANDING YOUR VOCABULARY"
   ]
  },
  {
   "cell_type": "raw",
   "id": "e7e70df3",
   "metadata": {},
   "source": [
    "if else\n",
    "for loops\n",
    "while loops\n",
    "dictionaries\n",
    "catch exceptions and testing"
   ]
  },
  {
   "cell_type": "markdown",
   "id": "929c4d90",
   "metadata": {},
   "source": [
    "# STEP 5 - OTHER PEOPLE'S CODE"
   ]
  },
  {
   "cell_type": "markdown",
   "id": "49982579",
   "metadata": {},
   "source": [
    "## What is PIP?\n",
    "- PIP is a package manager for Python packages, or modules if you like.\n",
    "- To search for packages just go to pip https://pypi.org/\n",
    "- to install packages just open an Anaconda terminal (or terminal within Google Colab) and just type **pip instsall package_name**\n",
    "- You can also just type **!pip instsall package_name** within a notebook cell"
   ]
  },
  {
   "cell_type": "markdown",
   "id": "35381411",
   "metadata": {},
   "source": [
    "## Create your own reusable code\n",
    "\n",
    "- discuss functions here \n",
    "- add reference to creating your own packages"
   ]
  },
  {
   "cell_type": "markdown",
   "id": "e6e572af",
   "metadata": {},
   "source": [
    "# STEP 6 - DEBUGGING, TIPS, & TRICKS"
   ]
  },
  {
   "cell_type": "markdown",
   "id": "b3792e2b",
   "metadata": {},
   "source": [
    "Ever since **Python**, we can now say that learning how to program is EASY, yet it is still HARD to master. \n",
    "*Here are some tips to level up your python-fu!*"
   ]
  },
  {
   "cell_type": "markdown",
   "id": "c314130d",
   "metadata": {},
   "source": [
    "- SEARCH: No one knows everything, use https://www.google.com/ and https://stackoverflow.com/!\n",
    "- DOCUMENTATION: Everything is free and open for everyone to read https://docs.python.org/3/\n",
    "- ASK: Don't be afraid to engage old programming wizards in Python communities https://www.facebook.com/groups/570524223003384 and https://www.reddit.com/r/python\n",
    "- CHEAT: No one says you can't cheat in Python https://www.pythoncheatsheet.org/\n",
    "- CODE: Start a project and don't stop until you are done.\n",
    "- FAIL: Failing in development is cheap. And failure speeds up the learning process. Don't be afraid to make mistakes."
   ]
  },
  {
   "cell_type": "markdown",
   "id": "f4632736",
   "metadata": {},
   "source": [
    "# STEP 7 - CLOSING REMARKS"
   ]
  },
  {
   "cell_type": "markdown",
   "id": "d1984d7c",
   "metadata": {},
   "source": [
    "## Being a programmer is really just being a problem-solver, so solving problems is the most important part.\n",
    "You need to try (and fail at) several attempts to approach a problem so you can understand how different uses of your tools change the outcome. And then you need to keep refining your solution. While the solution to the problem is the immediate goal, the act of solving that problem increases your problem-solving skills, and that is the longer-term benefit.\n",
    "\n",
    "\n",
    "![Alt Text](https://raw.githubusercontent.com/ogbinar/python101/master/img/O-Comic-Zelda-Sword.gif)\n",
    "\n",
    "You are now ready for what comes next, **Good luck!**"
   ]
  },
  {
   "cell_type": "code",
   "execution_count": null,
   "id": "cfe9b1f3",
   "metadata": {},
   "outputs": [],
   "source": []
  }
 ],
 "metadata": {
  "kernelspec": {
   "display_name": "Python 3 (ipykernel)",
   "language": "python",
   "name": "python3"
  },
  "language_info": {
   "codemirror_mode": {
    "name": "ipython",
    "version": 3
   },
   "file_extension": ".py",
   "mimetype": "text/x-python",
   "name": "python",
   "nbconvert_exporter": "python",
   "pygments_lexer": "ipython3",
   "version": "3.9.12"
  }
 },
 "nbformat": 4,
 "nbformat_minor": 5
}
