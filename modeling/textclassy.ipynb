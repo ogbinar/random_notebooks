{
 "cells": [
  {
   "cell_type": "markdown",
   "id": "a9a4fac7",
   "metadata": {},
   "source": [
    "# Multi-Class Text Classification with Scikit-Learn"
   ]
  },
  {
   "cell_type": "code",
   "execution_count": 1,
   "id": "9b3cc683",
   "metadata": {},
   "outputs": [],
   "source": [
    "import pandas as pd"
   ]
  },
  {
   "cell_type": "code",
   "execution_count": 2,
   "id": "29bd105b",
   "metadata": {},
   "outputs": [],
   "source": [
    "# data source https://www.kaggle.com/datasets/saurabhshahane/ecommerce-text-classification"
   ]
  },
  {
   "cell_type": "code",
   "execution_count": 3,
   "id": "31f59a8c",
   "metadata": {},
   "outputs": [
    {
     "data": {
      "text/html": [
       "<div>\n",
       "<style scoped>\n",
       "    .dataframe tbody tr th:only-of-type {\n",
       "        vertical-align: middle;\n",
       "    }\n",
       "\n",
       "    .dataframe tbody tr th {\n",
       "        vertical-align: top;\n",
       "    }\n",
       "\n",
       "    .dataframe thead th {\n",
       "        text-align: right;\n",
       "    }\n",
       "</style>\n",
       "<table border=\"1\" class=\"dataframe\">\n",
       "  <thead>\n",
       "    <tr style=\"text-align: right;\">\n",
       "      <th></th>\n",
       "      <th>class</th>\n",
       "      <th>text</th>\n",
       "    </tr>\n",
       "  </thead>\n",
       "  <tbody>\n",
       "    <tr>\n",
       "      <th>0</th>\n",
       "      <td>Household</td>\n",
       "      <td>Paper Plane Design Framed Wall Hanging Motivat...</td>\n",
       "    </tr>\n",
       "    <tr>\n",
       "      <th>1</th>\n",
       "      <td>Household</td>\n",
       "      <td>SAF 'Floral' Framed Painting (Wood, 30 inch x ...</td>\n",
       "    </tr>\n",
       "    <tr>\n",
       "      <th>2</th>\n",
       "      <td>Household</td>\n",
       "      <td>SAF 'UV Textured Modern Art Print Framed' Pain...</td>\n",
       "    </tr>\n",
       "    <tr>\n",
       "      <th>3</th>\n",
       "      <td>Household</td>\n",
       "      <td>SAF Flower Print Framed Painting (Synthetic, 1...</td>\n",
       "    </tr>\n",
       "    <tr>\n",
       "      <th>4</th>\n",
       "      <td>Household</td>\n",
       "      <td>Incredible Gifts India Wooden Happy Birthday U...</td>\n",
       "    </tr>\n",
       "    <tr>\n",
       "      <th>...</th>\n",
       "      <td>...</td>\n",
       "      <td>...</td>\n",
       "    </tr>\n",
       "    <tr>\n",
       "      <th>50420</th>\n",
       "      <td>Electronics</td>\n",
       "      <td>Strontium MicroSD Class 10 8GB Memory Card (Bl...</td>\n",
       "    </tr>\n",
       "    <tr>\n",
       "      <th>50421</th>\n",
       "      <td>Electronics</td>\n",
       "      <td>CrossBeats Wave Waterproof Bluetooth Wireless ...</td>\n",
       "    </tr>\n",
       "    <tr>\n",
       "      <th>50422</th>\n",
       "      <td>Electronics</td>\n",
       "      <td>Karbonn Titanium Wind W4 (White) Karbonn Titan...</td>\n",
       "    </tr>\n",
       "    <tr>\n",
       "      <th>50423</th>\n",
       "      <td>Electronics</td>\n",
       "      <td>Samsung Guru FM Plus (SM-B110E/D, Black) Colou...</td>\n",
       "    </tr>\n",
       "    <tr>\n",
       "      <th>50424</th>\n",
       "      <td>Electronics</td>\n",
       "      <td>Micromax Canvas Win W121 (White)</td>\n",
       "    </tr>\n",
       "  </tbody>\n",
       "</table>\n",
       "<p>50425 rows × 2 columns</p>\n",
       "</div>"
      ],
      "text/plain": [
       "             class                                               text\n",
       "0        Household  Paper Plane Design Framed Wall Hanging Motivat...\n",
       "1        Household  SAF 'Floral' Framed Painting (Wood, 30 inch x ...\n",
       "2        Household  SAF 'UV Textured Modern Art Print Framed' Pain...\n",
       "3        Household  SAF Flower Print Framed Painting (Synthetic, 1...\n",
       "4        Household  Incredible Gifts India Wooden Happy Birthday U...\n",
       "...            ...                                                ...\n",
       "50420  Electronics  Strontium MicroSD Class 10 8GB Memory Card (Bl...\n",
       "50421  Electronics  CrossBeats Wave Waterproof Bluetooth Wireless ...\n",
       "50422  Electronics  Karbonn Titanium Wind W4 (White) Karbonn Titan...\n",
       "50423  Electronics  Samsung Guru FM Plus (SM-B110E/D, Black) Colou...\n",
       "50424  Electronics                   Micromax Canvas Win W121 (White)\n",
       "\n",
       "[50425 rows x 2 columns]"
      ]
     },
     "execution_count": 3,
     "metadata": {},
     "output_type": "execute_result"
    }
   ],
   "source": [
    "df = pd.read_csv(\"ecommerceDataset.csv\",encoding=\"utf-8\",names=['class','text'])\n",
    "df"
   ]
  },
  {
   "cell_type": "code",
   "execution_count": 4,
   "id": "24ceb4f4",
   "metadata": {},
   "outputs": [
    {
     "data": {
      "text/plain": [
       "Household                 19313\n",
       "Books                     11820\n",
       "Electronics               10621\n",
       "Clothing & Accessories     8671\n",
       "Name: class, dtype: int64"
      ]
     },
     "execution_count": 4,
     "metadata": {},
     "output_type": "execute_result"
    }
   ],
   "source": [
    "df['class'].value_counts()"
   ]
  },
  {
   "cell_type": "markdown",
   "id": "b22cccfd",
   "metadata": {},
   "source": [
    "# clean it up"
   ]
  },
  {
   "cell_type": "code",
   "execution_count": 5,
   "id": "6d015a72",
   "metadata": {
    "scrolled": true
   },
   "outputs": [
    {
     "data": {
      "text/html": [
       "<div>\n",
       "<style scoped>\n",
       "    .dataframe tbody tr th:only-of-type {\n",
       "        vertical-align: middle;\n",
       "    }\n",
       "\n",
       "    .dataframe tbody tr th {\n",
       "        vertical-align: top;\n",
       "    }\n",
       "\n",
       "    .dataframe thead th {\n",
       "        text-align: right;\n",
       "    }\n",
       "</style>\n",
       "<table border=\"1\" class=\"dataframe\">\n",
       "  <thead>\n",
       "    <tr style=\"text-align: right;\">\n",
       "      <th></th>\n",
       "      <th>class</th>\n",
       "      <th>text</th>\n",
       "    </tr>\n",
       "  </thead>\n",
       "  <tbody>\n",
       "    <tr>\n",
       "      <th>39330</th>\n",
       "      <td>Clothing &amp; Accessories</td>\n",
       "      <td>NaN</td>\n",
       "    </tr>\n",
       "  </tbody>\n",
       "</table>\n",
       "</div>"
      ],
      "text/plain": [
       "                        class text\n",
       "39330  Clothing & Accessories  NaN"
      ]
     },
     "execution_count": 5,
     "metadata": {},
     "output_type": "execute_result"
    }
   ],
   "source": [
    "df[df['text'].isna()] # one has NAN value. REMOVE!"
   ]
  },
  {
   "cell_type": "code",
   "execution_count": 6,
   "id": "5f4a811f",
   "metadata": {},
   "outputs": [],
   "source": [
    "filtered_df = df[df['text'].notnull()]"
   ]
  },
  {
   "cell_type": "code",
   "execution_count": 7,
   "id": "00b6d844",
   "metadata": {},
   "outputs": [
    {
     "data": {
      "text/html": [
       "<div>\n",
       "<style scoped>\n",
       "    .dataframe tbody tr th:only-of-type {\n",
       "        vertical-align: middle;\n",
       "    }\n",
       "\n",
       "    .dataframe tbody tr th {\n",
       "        vertical-align: top;\n",
       "    }\n",
       "\n",
       "    .dataframe thead th {\n",
       "        text-align: right;\n",
       "    }\n",
       "</style>\n",
       "<table border=\"1\" class=\"dataframe\">\n",
       "  <thead>\n",
       "    <tr style=\"text-align: right;\">\n",
       "      <th></th>\n",
       "      <th>class</th>\n",
       "      <th>text</th>\n",
       "    </tr>\n",
       "  </thead>\n",
       "  <tbody>\n",
       "  </tbody>\n",
       "</table>\n",
       "</div>"
      ],
      "text/plain": [
       "Empty DataFrame\n",
       "Columns: [class, text]\n",
       "Index: []"
      ]
     },
     "execution_count": 7,
     "metadata": {},
     "output_type": "execute_result"
    }
   ],
   "source": [
    "filtered_df[filtered_df['text'].isna()]"
   ]
  },
  {
   "cell_type": "markdown",
   "id": "3861866f",
   "metadata": {},
   "source": [
    "# Train Test Split"
   ]
  },
  {
   "cell_type": "code",
   "execution_count": 8,
   "id": "0f0d2143",
   "metadata": {},
   "outputs": [],
   "source": [
    "from sklearn.model_selection import train_test_split\n",
    "from sklearn.feature_extraction.text import TfidfTransformer\n",
    "from sklearn.feature_extraction.text import TfidfVectorizer\n",
    "from sklearn.naive_bayes import MultinomialNB\n",
    "X = filtered_df['text']\n",
    "y = filtered_df['class']\n",
    "\n",
    "X_train, X_test, y_train, y_test = train_test_split(X, y, random_state = 42, test_size =0.3)"
   ]
  },
  {
   "cell_type": "code",
   "execution_count": 9,
   "id": "04fc761c",
   "metadata": {},
   "outputs": [],
   "source": [
    "# let's extract features for our train test split\n",
    "\n",
    "vectorizer = TfidfVectorizer(stop_words='english')\n",
    "X_train_tfidf = vectorizer.fit_transform(X_train)\n",
    "X_test_tfidf = vectorizer.transform(X_test)"
   ]
  },
  {
   "cell_type": "markdown",
   "id": "b1a72a43",
   "metadata": {},
   "source": [
    "# Feature selection\n",
    "We can't use all the words so we only pick the best ones. We use f_classif as basis for prioritizing the words."
   ]
  },
  {
   "cell_type": "code",
   "execution_count": 10,
   "id": "ec1bd877",
   "metadata": {},
   "outputs": [],
   "source": [
    "from sklearn.feature_selection import SelectPercentile, f_classif\n",
    "selector = SelectPercentile(f_classif, percentile=10)\n",
    "selector.fit(X_train_tfidf, y_train)\n",
    "X_train_tfidf = selector.transform(X_train_tfidf).toarray()\n",
    "X_test_tfidf = selector.transform(X_test_tfidf).toarray()"
   ]
  },
  {
   "cell_type": "code",
   "execution_count": 11,
   "id": "b569c2a1",
   "metadata": {},
   "outputs": [],
   "source": [
    "# only get the top 10% of the best scoring words as our features"
   ]
  },
  {
   "cell_type": "markdown",
   "id": "b53086da",
   "metadata": {},
   "source": [
    "# Text Classifier\n",
    "\n",
    "We use a NB classifier with tfidf as input"
   ]
  },
  {
   "cell_type": "code",
   "execution_count": 12,
   "id": "3b025a0e",
   "metadata": {},
   "outputs": [
    {
     "name": "stdout",
     "output_type": "stream",
     "text": [
      "\n",
      "Training time:  3.134 s\n",
      "Prediction time (train):  8.178 s\n",
      "Prediction time (test):  3.753 s\n",
      "\n",
      "Train set score: 0.9409848141432456\n",
      "Test set score: 0.9191565309360127\n"
     ]
    }
   ],
   "source": [
    "from sklearn.naive_bayes import GaussianNB\n",
    "from time import time\n",
    "t0 = time()\n",
    "model = GaussianNB()\n",
    "model.fit(X_train_tfidf, y_train)\n",
    "print(\"\\nTraining time: \",round(time()-t0, 3),\"s\")\n",
    "t0 = time()\n",
    "score_train = model.score(X_train_tfidf, y_train)\n",
    "print(\"Prediction time (train): \",round(time()-t0, 3),\"s\")\n",
    "t0 = time()\n",
    "score_test = model.score(X_test_tfidf, y_test)\n",
    "print(\"Prediction time (test): \",round(time()-t0, 3),\"s\")\n",
    "print(\"\\nTrain set score:\", score_train)\n",
    "print(\"Test set score:\", score_test)"
   ]
  },
  {
   "cell_type": "code",
   "execution_count": 13,
   "id": "86175b6c",
   "metadata": {},
   "outputs": [],
   "source": [
    "# mukhang accurateeeeeeeee!"
   ]
  },
  {
   "cell_type": "markdown",
   "id": "52c37aeb",
   "metadata": {},
   "source": [
    "# Let's test it"
   ]
  },
  {
   "cell_type": "code",
   "execution_count": 14,
   "id": "d3563ad1",
   "metadata": {},
   "outputs": [
    {
     "data": {
      "text/plain": [
       "array(['Electronics'], dtype='<U22')"
      ]
     },
     "execution_count": 14,
     "metadata": {},
     "output_type": "execute_result"
    }
   ],
   "source": [
    "# https://www.lazada.com.ph/products/easy-hub1-usb-port-hub-multiple-hight-speed-usb-hub-30-usb-splitter-4-ports-hub-otg-printer-for-laptop-pc-i2881843969-s13993329573.html\n",
    "sample_tfidf = vectorizer.transform([\"EASY Hub1 USB Port hub Multiple Hight Speed USB hub 3.0 USB Splitter 4 Ports HUB OTG Printer for Laptop PC\"])\n",
    "selected_features_sample_tfidf = selector.transform(sample_tfidf).toarray()\n",
    "\n",
    "model.predict(selected_features_sample_tfidf)"
   ]
  },
  {
   "cell_type": "code",
   "execution_count": 15,
   "id": "9df3eec2",
   "metadata": {},
   "outputs": [
    {
     "data": {
      "text/plain": [
       "array(['Household'], dtype='<U22')"
      ]
     },
     "execution_count": 15,
     "metadata": {},
     "output_type": "execute_result"
    }
   ],
   "source": [
    "# https://www.lazada.com.ph/products/folding-bed-outdoor-adjustable-folding-bed-office-nap-bed-easy-to-carry-and-no-installation-4-levels-adjustable-bed-width63cm-25mm-thick-round-tube-sit-lean-lie-down-free-adjustment-folding-does-not-take-up-space-bearing-weight-300kg-blue-i2580776180-s12068472550.html\n",
    "sample_tfidf = vectorizer.transform([\"Folding bed Outdoor adjustable folding bed Office nap bed Easy to carry and no installation 4 levels adjustable Bed width:63CM 25MM thick round tube Sit, lean, lie down, free adjustment Folding does not take up space Bearing weight 300KG blue\"])\n",
    "selected_features_sample_tfidf = selector.transform(sample_tfidf).toarray()\n",
    "\n",
    "model.predict(selected_features_sample_tfidf)"
   ]
  },
  {
   "cell_type": "raw",
   "id": "a0eb7eb1",
   "metadata": {},
   "source": [
    "WHATAP????"
   ]
  },
  {
   "cell_type": "markdown",
   "id": "97694b70",
   "metadata": {},
   "source": [
    "# Evaluation"
   ]
  },
  {
   "cell_type": "code",
   "execution_count": 16,
   "id": "762caee5",
   "metadata": {},
   "outputs": [],
   "source": [
    "y_pred = model.predict(X_test_tfidf)"
   ]
  },
  {
   "cell_type": "code",
   "execution_count": 17,
   "id": "7ca13005",
   "metadata": {},
   "outputs": [
    {
     "data": {
      "text/plain": [
       "array(['Household', 'Books', 'Clothing & Accessories', 'Electronics'],\n",
       "      dtype=object)"
      ]
     },
     "execution_count": 17,
     "metadata": {},
     "output_type": "execute_result"
    }
   ],
   "source": [
    "filtered_df['class'].drop_duplicates().values"
   ]
  },
  {
   "cell_type": "code",
   "execution_count": 18,
   "id": "596349bd",
   "metadata": {
    "scrolled": true
   },
   "outputs": [
    {
     "data": {
      "image/png": "[encoded data removed]",
      "text/plain": [
       "<Figure size 720x720 with 2 Axes>"
      ]
     },
     "metadata": {
      "needs_background": "light"
     },
     "output_type": "display_data"
    }
   ],
   "source": [
    "import seaborn as sns\n",
    "import matplotlib.pyplot as plt\n",
    "\n",
    "from sklearn.metrics import confusion_matrix\n",
    "conf_mat = confusion_matrix(y_test, y_pred)\n",
    "fig, ax = plt.subplots(figsize=(10,10))\n",
    "sns.heatmap(conf_mat, annot=True, fmt='d',\n",
    "            xticklabels=filtered_df['class'].drop_duplicates().values, yticklabels=filtered_df['class'].drop_duplicates().values)\n",
    "plt.ylabel('Actual')\n",
    "plt.xlabel('Predicted')\n",
    "plt.show()"
   ]
  },
  {
   "cell_type": "code",
   "execution_count": 19,
   "id": "b55266d1",
   "metadata": {},
   "outputs": [
    {
     "data": {
      "text/plain": [
       "0.9191565309360127"
      ]
     },
     "execution_count": 19,
     "metadata": {},
     "output_type": "execute_result"
    }
   ],
   "source": [
    "from sklearn.metrics import accuracy_score\n",
    "accuracy_score(y_test, y_pred)"
   ]
  },
  {
   "cell_type": "code",
   "execution_count": 20,
   "id": "5435c04f",
   "metadata": {},
   "outputs": [
    {
     "name": "stdout",
     "output_type": "stream",
     "text": [
      "                        precision    recall  f1-score   support\n",
      "\n",
      "             Household       0.96      0.88      0.92      3551\n",
      "                 Books       0.84      0.97      0.90      2580\n",
      "Clothing & Accessories       0.93      0.92      0.93      3152\n",
      "           Electronics       0.94      0.92      0.93      5845\n",
      "\n",
      "              accuracy                           0.92     15128\n",
      "             macro avg       0.91      0.92      0.92     15128\n",
      "          weighted avg       0.92      0.92      0.92     15128\n",
      "\n"
     ]
    }
   ],
   "source": [
    "from sklearn.metrics import classification_report\n",
    "target_names = filtered_df['class'].drop_duplicates().values\n",
    "print(classification_report(y_test, y_pred, target_names=target_names))"
   ]
  },
  {
   "cell_type": "markdown",
   "id": "5ed79a1b",
   "metadata": {},
   "source": [
    "# fixing imbalance thru oversampling\n",
    "Synthetic Minority Oversampling TEchnique, or SMOTE for short."
   ]
  },
  {
   "cell_type": "code",
   "execution_count": 21,
   "id": "e0457d68",
   "metadata": {},
   "outputs": [],
   "source": [
    "from imblearn.over_sampling import SMOTE\n",
    "from imblearn.pipeline import make_pipeline as make_pipeline_imb\n",
    "from mlxtend.preprocessing import DenseTransformer\n",
    "\n",
    "smote_model = make_pipeline_imb(TfidfVectorizer(),SelectPercentile(f_classif, percentile=10), DenseTransformer(), SMOTE(), GaussianNB())\n",
    "# convert to tfidf vectors\n",
    "# select the top 10% predictive features\n",
    "# convert from sparse to dense\n",
    "# apply SMOTE to oversample imbalanced classes\n",
    "# fit model\n",
    "\n",
    "\n",
    "smote_model.fit(X_train, y_train)\n",
    "smote_y_pred = smote_model.predict(X_test)"
   ]
  },
  {
   "cell_type": "code",
   "execution_count": 22,
   "id": "90ba6086",
   "metadata": {},
   "outputs": [
    {
     "name": "stdout",
     "output_type": "stream",
     "text": [
      "                              pre       rec       spe        f1       geo       iba       sup\n",
      "\n",
      "                 Books       0.96      0.89      0.99      0.92      0.94      0.87      3551\n",
      "Clothing & Accessories       0.86      0.97      0.97      0.91      0.97      0.94      2580\n",
      "           Electronics       0.93      0.93      0.98      0.93      0.95      0.90      3152\n",
      "             Household       0.94      0.93      0.96      0.93      0.94      0.89      5845\n",
      "\n",
      "           avg / total       0.93      0.92      0.97      0.92      0.95      0.89     15128\n",
      "\n"
     ]
    }
   ],
   "source": [
    "from imblearn.metrics import classification_report_imbalanced\n",
    "print(classification_report_imbalanced(y_test, smote_y_pred))"
   ]
  },
  {
   "cell_type": "code",
   "execution_count": 23,
   "id": "c76aa077",
   "metadata": {},
   "outputs": [
    {
     "data": {
      "image/png": "[encoded data removed]",
      "text/plain": [
       "<Figure size 720x720 with 2 Axes>"
      ]
     },
     "metadata": {
      "needs_background": "light"
     },
     "output_type": "display_data"
    }
   ],
   "source": [
    "from sklearn.metrics import confusion_matrix\n",
    "conf_mat = confusion_matrix(y_test, smote_y_pred)\n",
    "fig, ax = plt.subplots(figsize=(10,10))\n",
    "sns.heatmap(conf_mat, annot=True, fmt='d',\n",
    "            xticklabels=filtered_df['class'].drop_duplicates().values, yticklabels=filtered_df['class'].drop_duplicates().values)\n",
    "plt.ylabel('Actual')\n",
    "plt.xlabel('Predicted')\n",
    "plt.show()"
   ]
  },
  {
   "cell_type": "code",
   "execution_count": 24,
   "id": "1546e77f",
   "metadata": {},
   "outputs": [
    {
     "data": {
      "text/plain": [
       "0.9239820200951877"
      ]
     },
     "execution_count": 24,
     "metadata": {},
     "output_type": "execute_result"
    }
   ],
   "source": [
    "accuracy_score(y_test, smote_y_pred)"
   ]
  },
  {
   "cell_type": "markdown",
   "id": "c23913b3",
   "metadata": {},
   "source": [
    "# Let's test it part 2"
   ]
  },
  {
   "cell_type": "code",
   "execution_count": 26,
   "id": "72a83d9f",
   "metadata": {},
   "outputs": [
    {
     "data": {
      "text/plain": [
       "array(['Electronics'], dtype='<U22')"
      ]
     },
     "execution_count": 26,
     "metadata": {},
     "output_type": "execute_result"
    }
   ],
   "source": [
    "# https://www.lazada.com.ph/products/easy-hub1-usb-port-hub-multiple-hight-speed-usb-hub-30-usb-splitter-4-ports-hub-otg-printer-for-laptop-pc-i2881843969-s13993329573.html\n",
    "x_sample = [\"EASY Hub1 USB Port hub Multiple Hight Speed USB hub 3.0 USB Splitter 4 Ports HUB OTG Printer for Laptop PC\"]\n",
    "smote_model.predict(x_sample)"
   ]
  },
  {
   "cell_type": "code",
   "execution_count": 27,
   "id": "cadc46fc",
   "metadata": {},
   "outputs": [
    {
     "data": {
      "text/plain": [
       "array(['Household'], dtype='<U22')"
      ]
     },
     "execution_count": 27,
     "metadata": {},
     "output_type": "execute_result"
    }
   ],
   "source": [
    "# https://www.lazada.com.ph/products/folding-bed-outdoor-adjustable-folding-bed-office-nap-bed-easy-to-carry-and-no-installation-4-levels-adjustable-bed-width63cm-25mm-thick-round-tube-sit-lean-lie-down-free-adjustment-folding-does-not-take-up-space-bearing-weight-300kg-blue-i2580776180-s12068472550.html\n",
    "x_sample = [\"Folding bed Outdoor adjustable folding bed Office nap bed Easy to carry and no installation 4 levels adjustable Bed width:63CM 25MM thick round tube Sit, lean, lie down, free adjustment Folding does not take up space Bearing weight 300KG blue\"]\n",
    "smote_model.predict(x_sample)\n",
    "\n"
   ]
  },
  {
   "cell_type": "raw",
   "id": "eba70b86",
   "metadata": {},
   "source": [
    "WHATAP???? (part2)"
   ]
  }
 ],
 "metadata": {
  "kernelspec": {
   "display_name": "Python 3 (ipykernel)",
   "language": "python",
   "name": "python3"
  },
  "language_info": {
   "codemirror_mode": {
    "name": "ipython",
    "version": 3
   },
   "file_extension": ".py",
   "mimetype": "text/x-python",
   "name": "python",
   "nbconvert_exporter": "python",
   "pygments_lexer": "ipython3",
   "version": "3.9.12"
  }
 },
 "nbformat": 4,
 "nbformat_minor": 5
}
